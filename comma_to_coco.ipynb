{
 "cells": [
  {
   "cell_type": "markdown",
   "metadata": {
    "id": "5W2rNFEC3H-v"
   },
   "source": [
    "# Transforming Images to coco\n",
    "\n",
    "I realy like the dataset CommaAI does, its free , open source and is not reserved for students of whatever. (https://github.com/commaai/comma10k)\n",
    "I want to transform these images in the coco format, easier for me to work with. I found a repo but had to make some little modifications (https://github.com/Mrgove10/image-to-coco-json-converter)\n",
    "If you want to use that script you wil have to to sme slight modifications to your data set."
   ]
  },
  {
   "cell_type": "markdown",
   "metadata": {
    "id": "ikPBrN6a3H-v"
   },
   "source": [
    "## Clone the image conversion repo"
   ]
  },
  {
   "cell_type": "code",
   "execution_count": 1,
   "metadata": {
    "colab": {
     "base_uri": "https://localhost:8080/"
    },
    "id": "qbmcCVox3H-v",
    "outputId": "2dfc5f67-6ad8-4339-dfdf-89cff7f1ba2e"
   },
   "outputs": [
    {
     "name": "stdout",
     "output_type": "stream",
     "text": [
      "Cloning into 'image-to-coco-json-converter'...\n",
      "remote: Enumerating objects: 75, done.\u001b[K\n",
      "remote: Counting objects: 100% (75/75), done.\u001b[K\n",
      "remote: Compressing objects: 100% (56/56), done.\u001b[K\n",
      "remote: Total 75 (delta 25), reused 66 (delta 16), pack-reused 0\u001b[K\n",
      "Unpacking objects: 100% (75/75), 905.14 KiB | 2.23 MiB/s, done.\n",
      "/home/adrien/Desktop/AI-SandBox/image-to-coco-json-converter\n",
      "Branch 'dev' set up to track remote branch 'dev' from 'origin'.\n",
      "Switched to a new branch 'dev'\n",
      "category_colors.py  \u001b[0m\u001b[01;32mcreate_annotations.py\u001b[0m*             \u001b[01;34mdataset\u001b[0m/  README.md\n",
      "coco_format.py      \u001b[01;32mcreate-custom-coco-dataset.ipynb\u001b[0m*  main.py\n"
     ]
    }
   ],
   "source": [
    "!rm -rf image-to-coco-json-converter\n",
    "!git clone https://github.com/Mrgove10/image-to-coco-json-converter\n",
    "%cd image-to-coco-json-converter\n",
    "!git checkout dev\n",
    "%ls\n",
    "if 'google.colab' in str(get_ipython()):\n",
    "    %cd /content"
   ]
  },
  {
   "cell_type": "markdown",
   "metadata": {
    "id": "s_nKFsQW3H-v"
   },
   "source": [
    "## clone the comma AI repo"
   ]
  },
  {
   "cell_type": "code",
   "execution_count": 2,
   "metadata": {
    "colab": {
     "base_uri": "https://localhost:8080/"
    },
    "id": "gx49HrzK3H-w",
    "outputId": "f227aced-934f-4eeb-e975-969160217730"
   },
   "outputs": [],
   "source": [
    "if 'google.colab' in str(get_ipython()):\n",
    "    !git clone -v https://github.com/commaai/comma10k --depth 1"
   ]
  },
  {
   "cell_type": "code",
   "execution_count": 2,
   "metadata": {
    "colab": {
     "base_uri": "https://localhost:8080/"
    },
    "id": "Pi9eKI8a9rDu",
    "outputId": "ef02b51e-7aa6-43e3-aca0-1d72b738fbc7"
   },
   "outputs": [
    {
     "name": "stdout",
     "output_type": "stream",
     "text": [
      "9886\n",
      "9886\n",
      "mkdir: cannot create directory ‘/home/adrien/Desktop/AI-SandBox/dataset’: File exists\n",
      "ls: write error: Broken pipe\n",
      "75\n",
      "ls: write error: Broken pipe\n",
      "75\n",
      "ls: write error: Broken pipe\n",
      "15\n",
      "ls: write error: Broken pipe\n",
      "15\n",
      "mkdir: cannot create directory ‘/home/adrien/Desktop/AI-SandBox/output’: File exists\n"
     ]
    }
   ],
   "source": [
    "if 'google.colab' in str(get_ipython()):\n",
    "    !ls /content/comma10k/imgs | wc -l\n",
    "    !ls /content/comma10k/masks | wc -l\n",
    "    !mkdir /content/dataset\n",
    "\n",
    "    #Training data\n",
    "    !mkdir /content/dataset/train\n",
    "    !mkdir /content/dataset/train_mask\n",
    "    !ls /content/comma10k/imgs/* | head -200 | xargs -I{} cp {} /content/dataset/train\n",
    "    !ls /content/dataset/train | wc -l\n",
    "    !ls /content/comma10k/masks/* | head -200 | xargs -I{} cp {} /content/dataset/train_mask\n",
    "    !ls /content/dataset/train_mask | wc -l\n",
    "\n",
    "    #validation data\n",
    "    !mkdir /content/dataset/val\n",
    "    !mkdir /content/dataset/val_mask\n",
    "    !ls /content/comma10k/imgs/* | head -20 | xargs -I{} cp {} /content/dataset/val\n",
    "    !ls /content/dataset/val | wc -l\n",
    "    !ls /content/comma10k/masks/* | head -20 | xargs -I{} cp {} /content/dataset/val_mask\n",
    "    !ls /content/dataset/val_mask | wc -l\n",
    "\n",
    "    #output dir\n",
    "    !mkdir /content/output\n",
    "else:\n",
    "    !ls /home/adrien/Desktop/comma10k/imgs | wc -l\n",
    "    !ls /home/adrien/Desktop/comma10k/masks | wc -l\n",
    "    !mkdir /home/adrien/Desktop/AI-SandBox/dataset\n",
    "\n",
    "    #Training data\n",
    "    !mkdir /home/adrien/Desktop/AI-SandBox/dataset/train\n",
    "    !mkdir /home/adrien/Desktop/AI-SandBox/dataset/train_mask\n",
    "    !ls /home/adrien/Desktop/comma10k/imgs/* | head -75 | xargs -I{} cp {} /home/adrien/Desktop/AI-SandBox/dataset/train\n",
    "    !ls /home/adrien/Desktop/AI-SandBox/dataset/train | wc -l\n",
    "    !ls /home/adrien/Desktop/comma10k/masks/* | head -75 | xargs -I{} cp {} /home/adrien/Desktop/AI-SandBox/dataset/train_mask\n",
    "    !ls /home/adrien/Desktop/AI-SandBox/dataset/train_mask | wc -l\n",
    "\n",
    "    #validation data\n",
    "    !mkdir /home/adrien/Desktop/AI-SandBox/dataset/val\n",
    "    !mkdir /home/adrien/Desktop/AI-SandBox/dataset/val_mask\n",
    "    !ls /home/adrien/Desktop/comma10k/imgs/* | head -15 | xargs -I{} cp {} /home/adrien/Desktop/AI-SandBox/dataset/val\n",
    "    !ls /home/adrien/Desktop/AI-SandBox/dataset/val | wc -l\n",
    "    !ls /home/adrien/Desktop/comma10k/masks/* | head -15 | xargs -I{} cp {} /home/adrien/Desktop/AI-SandBox/dataset/val_mask\n",
    "    !ls /home/adrien/Desktop/AI-SandBox/dataset/val_mask | wc -l\n",
    "\n",
    "    #output dir\n",
    "    !mkdir /home/adrien/Desktop/AI-SandBox/output"
   ]
  },
  {
   "cell_type": "code",
   "execution_count": null,
   "metadata": {
    "colab": {
     "base_uri": "https://localhost:8080/"
    },
    "id": "mefFvhmtN31a",
    "outputId": "fbe51a2f-562a-4906-c919-e9a6b50f13c7"
   },
   "outputs": [],
   "source": [
    "if 'google.colab' in str(get_ipython()):\n",
    "    !python image-to-coco-json-converter/main.py --dataset /content/dataset/ --output /content/output/\n",
    "else:\n",
    "    !python image-to-coco-json-converter/main.py --dataset /home/adrien/Desktop/AI-SandBox/dataset/ --output /home/adrien/Desktop/AI-SandBox/coco_output/"
   ]
  },
  {
   "cell_type": "code",
   "execution_count": null,
   "metadata": {},
   "outputs": [],
   "source": []
  }
 ],
 "metadata": {
  "colab": {
   "collapsed_sections": [],
   "name": "comma_to_coco.ipynb",
   "provenance": [],
   "toc_visible": true
  },
  "kernelspec": {
   "display_name": "Python 3",
   "language": "python",
   "name": "python3"
  },
  "language_info": {
   "codemirror_mode": {
    "name": "ipython",
    "version": 3
   },
   "file_extension": ".py",
   "mimetype": "text/x-python",
   "name": "python",
   "nbconvert_exporter": "python",
   "pygments_lexer": "ipython3",
   "version": "3.8.6"
  }
 },
 "nbformat": 4,
 "nbformat_minor": 4
}
